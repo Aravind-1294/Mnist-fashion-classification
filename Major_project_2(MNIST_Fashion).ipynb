{
  "nbformat": 4,
  "nbformat_minor": 0,
  "metadata": {
    "colab": {
      "name": "Major project-2(MNIST Fashion).ipynb",
      "provenance": []
    },
    "kernelspec": {
      "name": "python3",
      "display_name": "Python 3"
    },
    "language_info": {
      "name": "python"
    },
    "accelerator": "GPU",
    "gpuClass": "standard"
  },
  "cells": [
    {
      "cell_type": "code",
      "execution_count": 1,
      "metadata": {
        "id": "ApNv_XKM9fdI"
      },
      "outputs": [],
      "source": [
        "!pip install keras-tuner -q"
      ]
    },
    {
      "cell_type": "code",
      "source": [
        "import tensorflow as tf\n",
        "print(tf.__version__)"
      ],
      "metadata": {
        "colab": {
          "base_uri": "https://localhost:8080/"
        },
        "id": "PWoJJ8sB9xz8",
        "outputId": "46099d33-2c00-462b-94c7-b612260c3a7f"
      },
      "execution_count": 2,
      "outputs": [
        {
          "output_type": "stream",
          "name": "stdout",
          "text": [
            "2.8.2\n"
          ]
        }
      ]
    },
    {
      "cell_type": "code",
      "source": [
        "from tensorflow import keras\n",
        "(x_train, y_train), (x_test, y_test)=tf.keras.datasets.fashion_mnist.load_data()"
      ],
      "metadata": {
        "id": "SwI_3top92dH"
      },
      "execution_count": 3,
      "outputs": []
    },
    {
      "cell_type": "code",
      "source": [
        "import numpy as np\n",
        "import pandas  as pd\n",
        "import matplotlib.pyplot as plt"
      ],
      "metadata": {
        "id": "cxHTc307-SIY"
      },
      "execution_count": 4,
      "outputs": []
    },
    {
      "cell_type": "code",
      "source": [
        "x_train[0].shape"
      ],
      "metadata": {
        "colab": {
          "base_uri": "https://localhost:8080/"
        },
        "id": "e4DNZcnj-29b",
        "outputId": "4a49db7a-87fd-4755-f3f1-a6e6ce204345"
      },
      "execution_count": 5,
      "outputs": [
        {
          "output_type": "execute_result",
          "data": {
            "text/plain": [
              "(28, 28)"
            ]
          },
          "metadata": {},
          "execution_count": 5
        }
      ]
    },
    {
      "cell_type": "code",
      "source": [
        "x_train=x_train/255\n",
        "x_test=x_test/255"
      ],
      "metadata": {
        "id": "tVTYbw9YC3Ra"
      },
      "execution_count": 6,
      "outputs": []
    },
    {
      "cell_type": "code",
      "source": [
        "x_train=x_train.reshape(len(x_train),28,28,1)\n",
        "x_test=x_test.reshape(len(x_test),28,28,1)"
      ],
      "metadata": {
        "id": "0Kz70YB8BWEU"
      },
      "execution_count": 7,
      "outputs": []
    },
    {
      "cell_type": "code",
      "source": [
        "x_train[0].shape"
      ],
      "metadata": {
        "colab": {
          "base_uri": "https://localhost:8080/"
        },
        "id": "GEgugn-BJZwB",
        "outputId": "952da0f0-7543-4bdf-93d1-bc1430c07ec7"
      },
      "execution_count": 8,
      "outputs": [
        {
          "output_type": "execute_result",
          "data": {
            "text/plain": [
              "(28, 28, 1)"
            ]
          },
          "metadata": {},
          "execution_count": 8
        }
      ]
    },
    {
      "cell_type": "code",
      "source": [
        "from tensorflow.keras import layers\n",
        "\n",
        "def build_model(hp):\n",
        "    model = keras.Sequential([\n",
        "        keras.layers.Conv2D(\n",
        "            filters=hp.Int(\"conv1filter\", min_value=30, max_value=200, step=10),\n",
        "            kernel_size=hp.Choice(\"conv1kernel\",values=[3,4,]),\n",
        "            activation ='relu',\n",
        "            input_shape=(28,28,1)\n",
        "        ),\n",
        "        keras.layers.Conv2D(\n",
        "            filters=hp.Int(\"conv2filter\", min_value=30, max_value=200, step=10),\n",
        "            kernel_size=hp.Choice(\"conv2kernel\",values=[3,4]),\n",
        "            activation='relu'\n",
        "        ),\n",
        "        keras.layers.Flatten(),\n",
        "        keras.layers.Dense(\n",
        "            units=hp.Int(\"units\", min_value=32, max_value=100, step=10),\n",
        "            activation=\"relu\"\n",
        "        ),\n",
        "        keras.layers.Dense(\n",
        "            units=10,\n",
        "            activation=\"softmax\"\n",
        "        )\n",
        "     ])\n",
        "    learning_rate = hp.Float(\"lr\", min_value=1e-4, max_value=1e-2, sampling=\"log\")\n",
        "    model.compile(\n",
        "         optimizer=keras.optimizers.Adam(learning_rate=learning_rate), \n",
        "         loss = tf.keras.losses.SparseCategoricalCrossentropy(from_logits=True), \n",
        "         metrics=[\"accuracy\"],\n",
        "    )\n",
        "    return model"
      ],
      "metadata": {
        "id": "pIb6UBdj-6C6"
      },
      "execution_count": 9,
      "outputs": []
    },
    {
      "cell_type": "code",
      "source": [
        "import keras_tuner\n",
        "from keras_tuner import RandomSearch\n",
        "tuner = keras_tuner.RandomSearch(\n",
        "    hypermodel=build_model,\n",
        "    objective=\"val_accuracy\",\n",
        "    max_trials=4,\n",
        "    directory=\"ma\",\n",
        "    project_name=\"Fashion_mnist\",\n",
        ")"
      ],
      "metadata": {
        "id": "fU6zUsb4HH7J",
        "colab": {
          "base_uri": "https://localhost:8080/"
        },
        "outputId": "f01e00e1-b4aa-479b-fe28-380dc00f85db"
      },
      "execution_count": 10,
      "outputs": [
        {
          "output_type": "stream",
          "name": "stdout",
          "text": [
            "INFO:tensorflow:Reloading Oracle from existing project ma/Fashion_mnist/oracle.json\n",
            "INFO:tensorflow:Reloading Tuner from ma/Fashion_mnist/tuner0.json\n"
          ]
        }
      ]
    },
    {
      "cell_type": "code",
      "source": [
        "tuner.search(x_train, y_train, epochs=4, validation_split=0.2)"
      ],
      "metadata": {
        "colab": {
          "base_uri": "https://localhost:8080/"
        },
        "id": "2c-FglR3I3eG",
        "outputId": "6642772b-12a2-4505-dd56-d52b80e0b0e9"
      },
      "execution_count": 11,
      "outputs": [
        {
          "output_type": "stream",
          "name": "stdout",
          "text": [
            "INFO:tensorflow:Oracle triggered exit\n"
          ]
        }
      ]
    },
    {
      "cell_type": "code",
      "source": [
        "models = tuner.get_best_models(num_models=2)\n",
        "model = models[0]\n",
        "model.summary()"
      ],
      "metadata": {
        "colab": {
          "base_uri": "https://localhost:8080/"
        },
        "id": "2NqI-sMEL-PY",
        "outputId": "94f06862-564b-4e78-d7f0-a0eda7ef3d7e"
      },
      "execution_count": 12,
      "outputs": [
        {
          "output_type": "stream",
          "name": "stdout",
          "text": [
            "Model: \"sequential\"\n",
            "_________________________________________________________________\n",
            " Layer (type)                Output Shape              Param #   \n",
            "=================================================================\n",
            " conv2d (Conv2D)             (None, 26, 26, 120)       1200      \n",
            "                                                                 \n",
            " conv2d_1 (Conv2D)           (None, 24, 24, 40)        43240     \n",
            "                                                                 \n",
            " flatten (Flatten)           (None, 23040)             0         \n",
            "                                                                 \n",
            " dense (Dense)               (None, 62)                1428542   \n",
            "                                                                 \n",
            " dense_1 (Dense)             (None, 10)                630       \n",
            "                                                                 \n",
            "=================================================================\n",
            "Total params: 1,473,612\n",
            "Trainable params: 1,473,612\n",
            "Non-trainable params: 0\n",
            "_________________________________________________________________\n"
          ]
        }
      ]
    },
    {
      "cell_type": "code",
      "source": [
        "model=model.fit(x_train,y_train,epochs=9,validation_split=0.2)"
      ],
      "metadata": {
        "id": "dmzg8NfyQ_r5",
        "colab": {
          "base_uri": "https://localhost:8080/"
        },
        "outputId": "bbfcc2e4-2275-4f02-97d5-3bda57d0d7c3"
      },
      "execution_count": 13,
      "outputs": [
        {
          "output_type": "stream",
          "name": "stdout",
          "text": [
            "Epoch 1/9\n"
          ]
        },
        {
          "output_type": "stream",
          "name": "stderr",
          "text": [
            "/usr/local/lib/python3.7/dist-packages/tensorflow/python/util/dispatch.py:1082: UserWarning: \"`sparse_categorical_crossentropy` received `from_logits=True`, but the `output` argument was produced by a sigmoid or softmax activation and thus does not represent logits. Was this intended?\"\n",
            "  return dispatch_target(*args, **kwargs)\n"
          ]
        },
        {
          "output_type": "stream",
          "name": "stdout",
          "text": [
            "1500/1500 [==============================] - 13s 7ms/step - loss: 0.1515 - accuracy: 0.9446 - val_loss: 0.2529 - val_accuracy: 0.9126\n",
            "Epoch 2/9\n",
            "1500/1500 [==============================] - 8s 5ms/step - loss: 0.1208 - accuracy: 0.9560 - val_loss: 0.2656 - val_accuracy: 0.9103\n",
            "Epoch 3/9\n",
            "1500/1500 [==============================] - 7s 5ms/step - loss: 0.0937 - accuracy: 0.9659 - val_loss: 0.2755 - val_accuracy: 0.9128\n",
            "Epoch 4/9\n",
            "1500/1500 [==============================] - 8s 5ms/step - loss: 0.0684 - accuracy: 0.9765 - val_loss: 0.3021 - val_accuracy: 0.9128\n",
            "Epoch 5/9\n",
            "1500/1500 [==============================] - 8s 5ms/step - loss: 0.0499 - accuracy: 0.9825 - val_loss: 0.3553 - val_accuracy: 0.9085\n",
            "Epoch 6/9\n",
            "1500/1500 [==============================] - 8s 5ms/step - loss: 0.0383 - accuracy: 0.9868 - val_loss: 0.3591 - val_accuracy: 0.9151\n",
            "Epoch 7/9\n",
            "1500/1500 [==============================] - 8s 5ms/step - loss: 0.0302 - accuracy: 0.9897 - val_loss: 0.3823 - val_accuracy: 0.9148\n",
            "Epoch 8/9\n",
            "1500/1500 [==============================] - 7s 5ms/step - loss: 0.0220 - accuracy: 0.9927 - val_loss: 0.4175 - val_accuracy: 0.9137\n",
            "Epoch 9/9\n",
            "1500/1500 [==============================] - 7s 5ms/step - loss: 0.0204 - accuracy: 0.9935 - val_loss: 0.5134 - val_accuracy: 0.9106\n"
          ]
        }
      ]
    },
    {
      "cell_type": "code",
      "source": [
        "plt.plot(model.history['accuracy'])\n",
        "plt.plot(model.history['val_accuracy'])"
      ],
      "metadata": {
        "id": "KeX6x7saRAIR",
        "colab": {
          "base_uri": "https://localhost:8080/",
          "height": 283
        },
        "outputId": "62a128d3-e38b-4aec-849a-7d5262bad66f"
      },
      "execution_count": 17,
      "outputs": [
        {
          "output_type": "execute_result",
          "data": {
            "text/plain": [
              "[<matplotlib.lines.Line2D at 0x7fe7f422d0d0>]"
            ]
          },
          "metadata": {},
          "execution_count": 17
        },
        {
          "output_type": "display_data",
          "data": {
            "text/plain": [
              "<Figure size 432x288 with 1 Axes>"
            ],
            "image/png": "[encoded data removed]"
          },
          "metadata": {
            "needs_background": "light"
          }
        }
      ]
    }
  ]
}